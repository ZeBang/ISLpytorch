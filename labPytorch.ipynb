{
 "cells": [
  {
   "cell_type": "markdown",
   "id": "e7f9203c",
   "metadata": {},
   "source": [
    "[![Open in Colab](https://colab.research.google.com/assets/colab-badge.svg)](https://colab.research.google.com/github/ZeBang/pytorch)"
   ]
  },
  {
   "cell_type": "markdown",
   "id": "173f7000",
   "metadata": {},
   "source": [
    "Good References for Pytorch:\n",
    "    \n",
    "Deep Learning with PyTorch: A 60 Minute Blitz\n",
    "https://pytorch.org/tutorials/beginner/deep_learning_60min_blitz.html\n",
    "\n",
    "PyTorch Fundamentals by Microsoft\n",
    "https://learn.microsoft.com/en-us/training/paths/pytorch-fundamentals/"
   ]
  },
  {
   "cell_type": "markdown",
   "id": "643582ea",
   "metadata": {},
   "source": [
    "## A single Layer Network on the Hitters Data"
   ]
  },
  {
   "cell_type": "code",
   "execution_count": 1,
   "id": "95e39fac",
   "metadata": {},
   "outputs": [],
   "source": [
    "import pandas as pd\n",
    "import numpy as np\n",
    "import random\n",
    "import math\n",
    "import torch\n",
    "from torch.utils import data"
   ]
  },
  {
   "cell_type": "markdown",
   "id": "a60add11",
   "metadata": {},
   "source": [
    "**Load Data**"
   ]
  },
  {
   "cell_type": "code",
   "execution_count": 2,
   "id": "bb4a9cf4",
   "metadata": {},
   "outputs": [],
   "source": [
    "random.seed(13)\n",
    "torch.manual_seed(13) \n",
    "\n",
    "Gitters = pd.read_csv('Gitters.csv')\n",
    "n = Gitters.shape[0]\n",
    "\n",
    "ntest = math.trunc(n / 3)\n",
    "testid = random.sample(range(n), ntest)\n",
    "trainid = [i for i in range(n) if i not in testid]\n",
    "## training and testing split\n",
    "x_train = torch.from_numpy(Gitters.iloc[trainid,:-1].to_numpy()).float()\n",
    "y_train = torch.from_numpy(Gitters.iloc[trainid,-1].to_numpy().reshape(-1, 1)).float()\n",
    "x_test = torch.from_numpy(Gitters.iloc[testid,:-1].to_numpy()).float()\n",
    "y_test = torch.from_numpy(Gitters.iloc[testid,-1].to_numpy().reshape(-1, 1)).float()"
   ]
  },
  {
   "cell_type": "markdown",
   "id": "bdc344e5",
   "metadata": {},
   "source": [
    "Most common way is first to construct a datatype called \"dataset\", then create a dataloader. see details\n",
    "https://pytorch.org/docs/stable/data.html#"
   ]
  },
  {
   "cell_type": "code",
   "execution_count": 3,
   "id": "10bfbf62",
   "metadata": {},
   "outputs": [],
   "source": [
    "dataset = data.TensorDataset(x_train, y_train)  # create your dataset\n",
    "data_iter = data.DataLoader(dataset, batch_size=32, shuffle=True)  # create your dataloader"
   ]
  },
  {
   "cell_type": "markdown",
   "id": "6dd57ac2",
   "metadata": {},
   "source": [
    "**Build Network**"
   ]
  },
  {
   "cell_type": "code",
   "execution_count": 4,
   "id": "5764577c",
   "metadata": {},
   "outputs": [],
   "source": [
    "import torch.nn as nn\n",
    "import torch.nn.functional as F\n",
    "from torch.autograd import Variable\n",
    "\n",
    "class Net(nn.Module):\n",
    "    def __init__(self, input_size):\n",
    "        super().__init__()\n",
    "        self.fc1 = nn.Linear(input_size, 50)\n",
    "        self.fc2 = nn.Linear(50, 1)\n",
    "        self.dropout = nn.Dropout(0.4)\n",
    "\n",
    "    def forward(self, x):\n",
    "        x = F.relu(self.fc1(x))\n",
    "        x = self.dropout(x)\n",
    "        x = self.fc2(x)\n",
    "        return x"
   ]
  },
  {
   "cell_type": "markdown",
   "id": "8dfc9015",
   "metadata": {},
   "source": [
    "**Set Parameters**"
   ]
  },
  {
   "cell_type": "code",
   "execution_count": 5,
   "id": "30685fd6",
   "metadata": {},
   "outputs": [],
   "source": [
    "batch_size = 32\n",
    "input_size = 20\n",
    "epochs = 20\n",
    "\n",
    "net = Net(input_size)\n",
    "loss_function = nn.MSELoss()\n",
    "optimizer = torch.optim.SGD(net.parameters(), lr=2e-5)"
   ]
  },
  {
   "cell_type": "markdown",
   "id": "c3866b44",
   "metadata": {},
   "source": [
    "**Training**"
   ]
  },
  {
   "cell_type": "code",
   "execution_count": 6,
   "id": "61f8a016",
   "metadata": {},
   "outputs": [
    {
     "name": "stdout",
     "output_type": "stream",
     "text": [
      "epoch 1, loss 3458109.843750\n",
      "epoch 2, loss 3805670.062500\n",
      "epoch 3, loss 3497083.093750\n",
      "epoch 4, loss 3578656.531250\n",
      "epoch 5, loss 3363636.906250\n",
      "epoch 6, loss 3298996.437500\n",
      "epoch 7, loss 3435200.500000\n",
      "epoch 8, loss 3191751.718750\n",
      "epoch 9, loss 2716008.718750\n",
      "epoch 10, loss 2349952.875000\n",
      "epoch 11, loss 2052268.867188\n",
      "epoch 12, loss 1743638.703125\n",
      "epoch 13, loss 1733356.781250\n",
      "epoch 14, loss 1215140.343750\n",
      "epoch 15, loss 1385267.812500\n",
      "epoch 16, loss 1315822.890625\n",
      "epoch 17, loss 1126842.882812\n",
      "epoch 18, loss 1135631.921875\n",
      "epoch 19, loss 1177384.781250\n",
      "epoch 20, loss 1199896.296875\n"
     ]
    }
   ],
   "source": [
    "torch.manual_seed(13) \n",
    "for epoch in range(epochs):\n",
    "    loss_epoch = 0\n",
    "    for x,y in data_iter:\n",
    "        optimizer.zero_grad()\n",
    "        loss = loss_function(net(x), y)\n",
    "        loss.backward()\n",
    "        optimizer.step()\n",
    "        loss_epoch += loss.item()\n",
    "    print(f'epoch {epoch + 1}, loss {loss_epoch:f}')"
   ]
  },
  {
   "cell_type": "markdown",
   "id": "75d1326d",
   "metadata": {},
   "source": [
    "**Testing**"
   ]
  },
  {
   "cell_type": "code",
   "execution_count": 7,
   "id": "18f64a23",
   "metadata": {},
   "outputs": [
    {
     "data": {
      "text/plain": [
       "144611.671875"
      ]
     },
     "execution_count": 7,
     "metadata": {},
     "output_type": "execute_result"
    }
   ],
   "source": [
    "pred = net(x_test)\n",
    "loss_function(pred, y_test).item()"
   ]
  },
  {
   "cell_type": "markdown",
   "id": "89264e9e",
   "metadata": {},
   "source": [
    "## Multilayer Network on the MNIST Digit Data"
   ]
  },
  {
   "cell_type": "code",
   "execution_count": 1,
   "id": "3acf06ce",
   "metadata": {},
   "outputs": [],
   "source": [
    "import numpy as np\n",
    "import pandas as pd\n",
    "\n",
    "import torch\n",
    "import torchvision\n",
    "import torch.nn as nn\n",
    "from torchvision.transforms import transforms\n",
    "import torch.nn.functional as F\n",
    "\n",
    "import matplotlib.pyplot as plt\n",
    "%matplotlib inline"
   ]
  },
  {
   "cell_type": "markdown",
   "id": "ec711fa4",
   "metadata": {},
   "source": [
    "**Load data**"
   ]
  },
  {
   "cell_type": "code",
   "execution_count": 40,
   "id": "a606e974",
   "metadata": {},
   "outputs": [],
   "source": [
    "## Loading the dataset using Pytorch Dataset\n",
    "train_dataset=torchvision.datasets.MNIST('./data',train=True,transform=transforms.ToTensor(),download=True)\n",
    "test_dataset=torchvision.datasets.MNIST('./data',train=False,transform=transforms.ToTensor(),download=True)\n",
    "\n",
    "## Data loader for further operation.\n",
    "train_dataloader=torch.utils.data.DataLoader(dataset=train_dataset, batch_size=100,shuffle=True)\n",
    "test_dataloader=torch.utils.data.DataLoader(dataset=test_dataset, batch_size=100,shuffle=True)"
   ]
  },
  {
   "cell_type": "code",
   "execution_count": 3,
   "id": "351e55d6",
   "metadata": {},
   "outputs": [
    {
     "name": "stdout",
     "output_type": "stream",
     "text": [
      "number of samples torch.Size([100, 1, 28, 28])\n",
      "number of labels torch.Size([100])\n"
     ]
    }
   ],
   "source": [
    "## see the shape of the data data that has been passed in batch\n",
    "data=iter(train_dataloader)\n",
    "samples,labels=next(data)\n",
    "print(f\"number of samples {samples.shape}\")\n",
    "print(f\"number of labels {labels.shape}\")"
   ]
  },
  {
   "cell_type": "code",
   "execution_count": 25,
   "id": "1541d88c",
   "metadata": {},
   "outputs": [
    {
     "data": {
      "image/png": "[encoded data removed]",
      "text/plain": [
       "<Figure size 2500x800 with 10 Axes>"
      ]
     },
     "metadata": {},
     "output_type": "display_data"
    }
   ],
   "source": [
    "## Printing Images from dataset\n",
    "plt.figure(figsize=(25,8))\n",
    "for i in range(10):\n",
    "    plt.subplot(1, 10, i+1)\n",
    "    plt.imshow(samples[i][0], 'BuPu')\n",
    "plt.show()"
   ]
  },
  {
   "cell_type": "markdown",
   "id": "5ae56702",
   "metadata": {},
   "source": [
    "**Build Network**"
   ]
  },
  {
   "cell_type": "code",
   "execution_count": 34,
   "id": "4735b58d",
   "metadata": {},
   "outputs": [],
   "source": [
    "class MNIST(nn.Module):\n",
    "    def __init__(self):\n",
    "        super().__init__()\n",
    "        self.fc1=nn.Linear(28*28, 256)\n",
    "        self.fc2=nn.Linear(256, 128)\n",
    "        self.fc3=nn.Linear(128, 10)\n",
    "        self.drop1 = nn.Dropout(0.4)\n",
    "        self.drop2 = nn.Dropout(0.3)\n",
    "    def forward(self,x):\n",
    "        x = self.drop1(F.relu(self.fc1(x)))\n",
    "        x = self.drop2(F.relu(self.fc2(x)))\n",
    "        x = self.fc3(x)\n",
    "        return x"
   ]
  },
  {
   "cell_type": "markdown",
   "id": "b4ccf3f3",
   "metadata": {},
   "source": [
    "**Set Parameters**"
   ]
  },
  {
   "cell_type": "code",
   "execution_count": 44,
   "id": "ed95c7d5",
   "metadata": {},
   "outputs": [],
   "source": [
    "epochs = 20\n",
    "\n",
    "net = MNIST()\n",
    "loss_function = nn.CrossEntropyLoss()\n",
    "optimizer = torch.optim.SGD(net.parameters(), lr=0.01)"
   ]
  },
  {
   "cell_type": "markdown",
   "id": "eb53dbfd",
   "metadata": {},
   "source": [
    "**Training**"
   ]
  },
  {
   "cell_type": "code",
   "execution_count": 45,
   "id": "d3a546d7",
   "metadata": {},
   "outputs": [
    {
     "name": "stdout",
     "output_type": "stream",
     "text": [
      "epoch 1, loss 1265.748399\n",
      "epoch 2, loss 671.170079\n",
      "epoch 3, loss 414.155360\n",
      "epoch 4, loss 336.781514\n",
      "epoch 5, loss 295.407463\n",
      "epoch 6, loss 270.320931\n",
      "epoch 7, loss 250.297567\n",
      "epoch 8, loss 234.539415\n",
      "epoch 9, loss 220.668807\n",
      "epoch 10, loss 209.686743\n",
      "epoch 11, loss 198.679632\n",
      "epoch 12, loss 189.890658\n",
      "epoch 13, loss 181.641917\n",
      "epoch 14, loss 174.975931\n",
      "epoch 15, loss 167.886870\n",
      "epoch 16, loss 161.933508\n",
      "epoch 17, loss 154.060923\n",
      "epoch 18, loss 150.028926\n",
      "epoch 19, loss 145.244806\n",
      "epoch 20, loss 139.440578\n"
     ]
    }
   ],
   "source": [
    "for epoch in range(epochs):\n",
    "    loss_epoch = 0\n",
    "    for i, (images, labels) in enumerate(train_dataloader):\n",
    "        images = images.reshape(-1, 28*28)  # convert matrix image data into vector\n",
    "        optimizer.zero_grad()\n",
    "        loss = loss_function(net(images), labels)\n",
    "        loss.backward()\n",
    "        optimizer.step()\n",
    "        loss_epoch += loss.item()\n",
    "    print(f'epoch {epoch + 1}, loss {loss_epoch:f}')"
   ]
  },
  {
   "cell_type": "markdown",
   "id": "a81b010b",
   "metadata": {},
   "source": [
    "**Testing**"
   ]
  },
  {
   "cell_type": "code",
   "execution_count": 46,
   "id": "cac75b87",
   "metadata": {},
   "outputs": [
    {
     "name": "stdout",
     "output_type": "stream",
     "text": [
      "getting the accuracy of 96.0% on validation set\n"
     ]
    }
   ],
   "source": [
    "with torch.no_grad():\n",
    "    n_correct=0\n",
    "    n_samples=0\n",
    "    for images,labels in test_dataloader:\n",
    "        images=images.reshape(-1,784)\n",
    "        output=net(images)\n",
    "        labels=labels\n",
    "        _,prediction=torch.max(output,1)\n",
    "        n_samples=labels.shape[0]\n",
    "        n_correct=(prediction==labels).sum().item()\n",
    "    accuracy=(n_correct/n_samples)*100\n",
    "print(f'getting the accuracy of {accuracy}% on validation set')"
   ]
  },
  {
   "cell_type": "markdown",
   "id": "24e29b09",
   "metadata": {},
   "source": [
    "## Convolutional Neural Networks"
   ]
  },
  {
   "cell_type": "code",
   "execution_count": 47,
   "id": "2b1ec89f",
   "metadata": {},
   "outputs": [],
   "source": [
    "import torch\n",
    "import torchvision\n",
    "import torchvision.transforms as transforms"
   ]
  },
  {
   "cell_type": "markdown",
   "id": "09997844",
   "metadata": {},
   "source": [
    "**Load data**"
   ]
  },
  {
   "cell_type": "code",
   "execution_count": 50,
   "id": "7d72011d",
   "metadata": {},
   "outputs": [
    {
     "name": "stdout",
     "output_type": "stream",
     "text": [
      "Downloading https://www.cs.toronto.edu/~kriz/cifar-100-python.tar.gz to ./data\\cifar-100-python.tar.gz\n"
     ]
    },
    {
     "data": {
      "application/vnd.jupyter.widget-view+json": {
       "model_id": "b26ac631b19e4788bb92341351e1a10e",
       "version_major": 2,
       "version_minor": 0
      },
      "text/plain": [
       "  0%|          | 0/169001437 [00:00<?, ?it/s]"
      ]
     },
     "metadata": {},
     "output_type": "display_data"
    },
    {
     "name": "stdout",
     "output_type": "stream",
     "text": [
      "Extracting ./data\\cifar-100-python.tar.gz to ./data\n",
      "Files already downloaded and verified\n"
     ]
    }
   ],
   "source": [
    "transform = transforms.Compose([transforms.ToTensor(),transforms.Normalize((0.5, 0.5, 0.5), (0.5, 0.5, 0.5))])\n",
    "\n",
    "batch_size = 4\n",
    "\n",
    "trainset = torchvision.datasets.CIFAR100(root='./data', train=True,download=True, transform=transform)\n",
    "trainloader = torch.utils.data.DataLoader(trainset, batch_size=batch_size, shuffle=True, num_workers=2)\n",
    "\n",
    "testset = torchvision.datasets.CIFAR100(root='./data', train=False,download=True, transform=transform)\n",
    "testloader = torch.utils.data.DataLoader(testset, batch_size=batch_size,shuffle=False, num_workers=2)\n",
    "\n",
    "classes = trainset.classes"
   ]
  },
  {
   "cell_type": "code",
   "execution_count": 60,
   "id": "131a366f",
   "metadata": {},
   "outputs": [
    {
     "data": {
      "image/png": "[encoded data removed]",
      "text/plain": [
       "<Figure size 640x480 with 1 Axes>"
      ]
     },
     "metadata": {},
     "output_type": "display_data"
    },
    {
     "name": "stdout",
     "output_type": "stream",
     "text": [
      "shrew baby  motorcycle otter\n"
     ]
    }
   ],
   "source": [
    "import matplotlib.pyplot as plt\n",
    "import numpy as np\n",
    "\n",
    "# functions to show an image\n",
    "\n",
    "\n",
    "def imshow(img):\n",
    "    img = img / 2 + 0.5     # unnormalize\n",
    "    npimg = img.numpy()\n",
    "    plt.imshow(np.transpose(npimg, (1, 2, 0)))\n",
    "    plt.show()\n",
    "\n",
    "\n",
    "# get some random training images\n",
    "dataiter = iter(trainloader)\n",
    "images, labels = next(dataiter)\n",
    "\n",
    "# show images\n",
    "imshow(torchvision.utils.make_grid(images))\n",
    "# print labels\n",
    "print(' '.join(f'{classes[labels[j]]:5s}' for j in range(batch_size)))"
   ]
  },
  {
   "cell_type": "markdown",
   "id": "7f969b16",
   "metadata": {},
   "source": [
    "**Build Network**\n",
    "\n",
    "Same as Figure 10.8 on Page 416"
   ]
  },
  {
   "cell_type": "code",
   "execution_count": 120,
   "id": "4fdf4b76",
   "metadata": {},
   "outputs": [],
   "source": [
    "import torch.nn as nn\n",
    "import torch.nn.functional as F\n",
    "import torch.optim as optim\n",
    "\n",
    "class netCNN(nn.Module):\n",
    "    def __init__(self):\n",
    "        super().__init__()\n",
    "        # kernel\n",
    "        self.conv1 = nn.Conv2d(3, 6, 3, padding='same')  # 3 input image channel, 6 output channels, 3x3 square convolution\n",
    "        self.conv2 = nn.Conv2d(6, 12, 3, padding='same')\n",
    "        self.conv3 = nn.Conv2d(12, 24, 3, padding='same')\n",
    "        # affine operation: y = Wx = b\n",
    "        self.fc1 = nn.Linear(24*4*4, 500)\n",
    "        self.fc2 = nn.Linear(500, 100)\n",
    "        # pooling\n",
    "        self.pool = nn.MaxPool2d(2, 2)\n",
    "\n",
    "    def forward(self, x):\n",
    "        x = self.pool(F.relu(self.conv1(x)))\n",
    "        x = self.pool(F.relu(self.conv2(x)))\n",
    "        x = self.pool(F.relu(self.conv3(x)))\n",
    "        x = torch.flatten(x, 1) # flatten all dimensions except batch dimension\n",
    "        x = F.relu(self.fc1(x))\n",
    "        x = F.relu(self.fc2(x))\n",
    "        return x\n",
    "    \n",
    "# (4x96 and 216x500)"
   ]
  },
  {
   "cell_type": "markdown",
   "id": "7eaaf8ae",
   "metadata": {},
   "source": [
    "**Set Parameters**"
   ]
  },
  {
   "cell_type": "code",
   "execution_count": 123,
   "id": "faeeb6af",
   "metadata": {},
   "outputs": [],
   "source": [
    "import torch.optim as optim\n",
    "\n",
    "epochs = 20\n",
    "\n",
    "net = netCNN()\n",
    "loss_function = nn.CrossEntropyLoss()\n",
    "optimizer = torch.optim.SGD(net.parameters(), lr=0.01)"
   ]
  },
  {
   "cell_type": "markdown",
   "id": "3308b235",
   "metadata": {},
   "source": [
    "**Training**"
   ]
  },
  {
   "cell_type": "code",
   "execution_count": 124,
   "id": "66bbe874",
   "metadata": {},
   "outputs": [
    {
     "name": "stdout",
     "output_type": "stream",
     "text": [
      "epoch 1, loss 53812.149960\n",
      "epoch 2, loss 43873.118951\n",
      "epoch 3, loss 37707.387898\n",
      "epoch 4, loss 34170.441369\n",
      "epoch 5, loss 31627.399753\n",
      "epoch 6, loss 29671.162925\n",
      "epoch 7, loss 27888.076325\n",
      "epoch 8, loss 26217.966709\n",
      "epoch 9, loss 24769.054906\n",
      "epoch 10, loss 23423.372727\n",
      "epoch 11, loss 22089.367554\n",
      "epoch 12, loss 21035.582232\n",
      "epoch 13, loss 19875.374408\n",
      "epoch 14, loss 19233.207716\n",
      "epoch 15, loss 18437.358082\n",
      "epoch 16, loss 17846.456480\n",
      "epoch 17, loss 17210.287618\n",
      "epoch 18, loss 16866.428960\n",
      "epoch 19, loss 16436.248216\n",
      "epoch 20, loss 16169.184950\n"
     ]
    }
   ],
   "source": [
    "for epoch in range(epochs):  # loop over the dataset multiple times\n",
    "    loss_epoch = 0\n",
    "    for i, data in enumerate(trainloader, 0):\n",
    "        # get the inputs; data is a list of [inputs, labels]\n",
    "        inputs, labels = data\n",
    "\n",
    "        # zero the parameter gradients\n",
    "        optimizer.zero_grad()\n",
    "\n",
    "        # forward + backward + optimize\n",
    "        outputs = net(inputs)\n",
    "        loss = loss_function(outputs, labels)\n",
    "        loss.backward()\n",
    "        optimizer.step()\n",
    "\n",
    "        # print statistics\n",
    "        loss_epoch += loss.item()\n",
    "    print(f'epoch {epoch + 1}, loss {loss_epoch:f}')"
   ]
  },
  {
   "cell_type": "markdown",
   "id": "656e4cac",
   "metadata": {},
   "source": [
    "**Testing**"
   ]
  },
  {
   "cell_type": "code",
   "execution_count": 125,
   "id": "e1adcd3a",
   "metadata": {},
   "outputs": [
    {
     "name": "stdout",
     "output_type": "stream",
     "text": [
      "Accuracy of the network on the 10000 test images: 27 %\n"
     ]
    }
   ],
   "source": [
    "correct = 0\n",
    "total = 0\n",
    "# since we're not training, we don't need to calculate the gradients for our outputs\n",
    "with torch.no_grad():\n",
    "    for data in testloader:\n",
    "        images, labels = data\n",
    "        # calculate outputs by running images through the network\n",
    "        outputs = net(images)\n",
    "        # the class with the highest energy is what we choose as prediction\n",
    "        _, predicted = torch.max(outputs.data, 1)\n",
    "        total += labels.size(0)\n",
    "        correct += (predicted == labels).sum().item()\n",
    "\n",
    "print(f'Accuracy of the network on the 10000 test images: {100 * correct // total} %')"
   ]
  },
  {
   "cell_type": "markdown",
   "id": "5beeb695",
   "metadata": {},
   "source": [
    "## Using Pretrained CNN Models\n",
    "\n",
    "The ISL book introduced how to load the pretrained CNN model, resnet18, in R. Here we show how to load resnet18 in Pytorch."
   ]
  },
  {
   "cell_type": "code",
   "execution_count": null,
   "id": "d0eab85a",
   "metadata": {},
   "outputs": [],
   "source": [
    "import torch\n",
    "model = torch.hub.load('pytorch/vision:v0.10.0', 'resnet18', pretrained=True)\n",
    "# or any of these variants\n",
    "# model = torch.hub.load('pytorch/vision:v0.10.0', 'resnet34', pretrained=True)\n",
    "# model = torch.hub.load('pytorch/vision:v0.10.0', 'resnet50', pretrained=True)\n",
    "# model = torch.hub.load('pytorch/vision:v0.10.0', 'resnet101', pretrained=True)\n",
    "# model = torch.hub.load('pytorch/vision:v0.10.0', 'resnet152', pretrained=True)"
   ]
  },
  {
   "cell_type": "markdown",
   "id": "2c82ec15",
   "metadata": {},
   "source": [
    "All pre-trained models expect input images normalized in the same way, i.e. mini-batches of 3-channel RGB images of shape (3 x H x W), where H and W are expected to be at least 224. The images have to be loaded in to a range of [0, 1] and then normalized using mean = [0.485, 0.456, 0.406] and std = [0.229, 0.224, 0.225].\n",
    "\n",
    "Here’s a sample execution."
   ]
  },
  {
   "cell_type": "code",
   "execution_count": 128,
   "id": "c1294d4a",
   "metadata": {},
   "outputs": [],
   "source": [
    "# Download an example image from the pytorch website\n",
    "import urllib\n",
    "url, filename = (\"https://github.com/pytorch/hub/raw/master/images/dog.jpg\", \"dog.jpg\")\n",
    "try: urllib.URLopener().retrieve(url, filename)\n",
    "except: urllib.request.urlretrieve(url, filename)"
   ]
  },
  {
   "cell_type": "code",
   "execution_count": null,
   "id": "10deec2f",
   "metadata": {},
   "outputs": [],
   "source": [
    "# sample execution (requires torchvision)\n",
    "from PIL import Image\n",
    "from torchvision import transforms\n",
    "input_image = Image.open(filename)\n",
    "preprocess = transforms.Compose([\n",
    "    transforms.Resize(256),\n",
    "    transforms.CenterCrop(224),\n",
    "    transforms.ToTensor(),\n",
    "    transforms.Normalize(mean=[0.485, 0.456, 0.406], std=[0.229, 0.224, 0.225]),\n",
    "])\n",
    "input_tensor = preprocess(input_image)\n",
    "input_batch = input_tensor.unsqueeze(0) # create a mini-batch as expected by the model\n",
    "\n",
    "# move the input and model to GPU for speed if available\n",
    "if torch.cuda.is_available():\n",
    "    input_batch = input_batch.to('cuda')\n",
    "    model.to('cuda')\n",
    "\n",
    "with torch.no_grad():\n",
    "    output = model(input_batch) # Tensor of shape 1000, with confidence scores over Imagenet's 1000 classes\n",
    "\n",
    "# The output has unnormalized scores. To get probabilities, you can run a softmax on it.\n",
    "probabilities = torch.nn.functional.softmax(output[0], dim=0)"
   ]
  },
  {
   "cell_type": "code",
   "execution_count": 133,
   "id": "b7a1941b",
   "metadata": {},
   "outputs": [
    {
     "name": "stdout",
     "output_type": "stream",
     "text": [
      "\r",
      "  0% [                                                                              ]     0 / 10472\r",
      " 78% [.............................................................                 ]  8192 / 10472\r",
      "100% [..............................................................................] 10472 / 10472"
     ]
    },
    {
     "data": {
      "text/plain": [
       "'imagenet_classes.txt'"
      ]
     },
     "execution_count": 133,
     "metadata": {},
     "output_type": "execute_result"
    }
   ],
   "source": [
    "import wget\n",
    "# Download ImageNet labels\n",
    "url = 'https://raw.githubusercontent.com/pytorch/hub/master/imagenet_classes.txt'\n",
    "wget.download(url)"
   ]
  },
  {
   "cell_type": "code",
   "execution_count": 134,
   "id": "cb04e75f",
   "metadata": {},
   "outputs": [
    {
     "name": "stdout",
     "output_type": "stream",
     "text": [
      "Samoyed 0.8846226930618286\n",
      "Arctic fox 0.045805007219314575\n",
      "white wolf 0.04427620768547058\n",
      "Pomeranian 0.005621352232992649\n",
      "Great Pyrenees 0.004652009811252356\n"
     ]
    }
   ],
   "source": [
    "# Read the categories\n",
    "with open(\"imagenet_classes.txt\", \"r\") as f:\n",
    "    categories = [s.strip() for s in f.readlines()]\n",
    "# Show top categories per image\n",
    "top5_prob, top5_catid = torch.topk(probabilities, 5)\n",
    "for i in range(top5_prob.size(0)):\n",
    "    print(categories[top5_catid[i]], top5_prob[i].item())"
   ]
  },
  {
   "cell_type": "markdown",
   "id": "fd697a93",
   "metadata": {},
   "source": [
    "Before we move on, just let you know Pytorch support many data set and can be loaded using its own functions:\n",
    "\n",
    "If you are interested in how to load data in Pytorch, see:\n",
    "\n",
    "https://pytorch.org/tutorials/beginner/basics/data_tutorial.html\n",
    "\n",
    "\n",
    "## Recurrent Neural Networks\n",
    "\n",
    "More details about RNN network in Pytorch can be found:\n",
    "\n",
    "https://pytorch.org/tutorials/intermediate/char_rnn_classification_tutorial.html\n",
    "\n",
    "https://www.deeplearningwizard.com/deep_learning/practical_pytorch/pytorch_recurrent_neuralnetwork/\n",
    "\n",
    "The Pytorch support many text dataset:\n",
    "\n",
    "https://pytorch.org/data/beta/examples.html#text\n",
    "\n",
    "The book used IMDb Document text data. For IMDB sentiment analysis in Pytorch, we can see:\n",
    "\n",
    "https://github.com/bentrevett/pytorch-sentiment-analysis\n",
    "\n",
    "Following we showed a simple RNN with two hidden layer + ReLU, using MNIST data."
   ]
  },
  {
   "cell_type": "markdown",
   "id": "87a51109",
   "metadata": {},
   "source": [
    "**Load Data**"
   ]
  },
  {
   "cell_type": "code",
   "execution_count": 8,
   "id": "43976eb0",
   "metadata": {},
   "outputs": [],
   "source": [
    "import torch\n",
    "import torch.nn as nn\n",
    "import torchvision.transforms as transforms\n",
    "import torchvision.datasets as dsets\n",
    "\n",
    "\n",
    "## LOADING DATASET\n",
    "train_dataset = dsets.MNIST(root='./data', \n",
    "                            train=True, \n",
    "                            transform=transforms.ToTensor(),\n",
    "                            download=True)\n",
    "\n",
    "test_dataset = dsets.MNIST(root='./data', \n",
    "                           train=False, \n",
    "                           transform=transforms.ToTensor())\n",
    "\n",
    "\n",
    "## MAKING DATASET ITERABLE\n",
    "batch_size = 100\n",
    "n_iters = 3000\n",
    "num_epochs = n_iters / (len(train_dataset) / batch_size)\n",
    "num_epochs = int(num_epochs)\n",
    "\n",
    "train_loader = torch.utils.data.DataLoader(dataset=train_dataset, \n",
    "                                           batch_size=batch_size, \n",
    "                                           shuffle=True)\n",
    "\n",
    "test_loader = torch.utils.data.DataLoader(dataset=test_dataset, \n",
    "                                          batch_size=batch_size, \n",
    "                                          shuffle=False)"
   ]
  },
  {
   "cell_type": "markdown",
   "id": "2892dfa9",
   "metadata": {},
   "source": [
    "**Build Network**"
   ]
  },
  {
   "cell_type": "code",
   "execution_count": 9,
   "id": "86841a9f",
   "metadata": {},
   "outputs": [],
   "source": [
    "class RNNModel(nn.Module):\n",
    "    def __init__(self, input_dim, hidden_dim, layer_dim, output_dim):\n",
    "        super(RNNModel, self).__init__()\n",
    "        # Hidden dimensions\n",
    "        self.hidden_dim = hidden_dim\n",
    "\n",
    "        # Number of hidden layers\n",
    "        self.layer_dim = layer_dim\n",
    "\n",
    "        # Building your RNN\n",
    "        # batch_first=True causes input/output tensors to be of shape\n",
    "        # (batch_dim, seq_dim, feature_dim)\n",
    "        self.rnn = nn.RNN(input_dim, hidden_dim, layer_dim, batch_first=True, nonlinearity='relu')\n",
    "\n",
    "        # Readout layer\n",
    "        self.fc = nn.Linear(hidden_dim, output_dim)\n",
    "\n",
    "    def forward(self, x):\n",
    "        # Initialize hidden state with zeros\n",
    "        h0 = torch.zeros(self.layer_dim, x.size(0), self.hidden_dim).requires_grad_()\n",
    "\n",
    "        # We need to detach the hidden state to prevent exploding/vanishing gradients\n",
    "        # This is part of truncated backpropagation through time (BPTT)\n",
    "        out, hn = self.rnn(x, h0.detach())\n",
    "\n",
    "        # Index hidden state of last time step\n",
    "        # out.size() --> 100, 28, 100\n",
    "        # out[:, -1, :] --> 100, 100 --> just want last time step hidden states! \n",
    "        out = self.fc(out[:, -1, :]) \n",
    "        # out.size() --> 100, 10\n",
    "        return out"
   ]
  },
  {
   "cell_type": "markdown",
   "id": "8f5d4745",
   "metadata": {},
   "source": [
    "**Set Parameters**"
   ]
  },
  {
   "cell_type": "code",
   "execution_count": 10,
   "id": "8f6f510b",
   "metadata": {},
   "outputs": [],
   "source": [
    "input_dim = 28\n",
    "hidden_dim = 100\n",
    "layer_dim = 2 \n",
    "output_dim = 10\n",
    "seq_dim = 28  \n",
    "\n",
    "model = RNNModel(input_dim, hidden_dim, layer_dim, output_dim)\n",
    "criterion = nn.CrossEntropyLoss()\n",
    "learning_rate = 0.01\n",
    "optimizer = torch.optim.SGD(model.parameters(), lr=learning_rate)  "
   ]
  },
  {
   "cell_type": "markdown",
   "id": "07d79173",
   "metadata": {},
   "source": [
    "**Training**"
   ]
  },
  {
   "cell_type": "code",
   "execution_count": 11,
   "id": "dea60e8b",
   "metadata": {},
   "outputs": [
    {
     "name": "stdout",
     "output_type": "stream",
     "text": [
      "Iteration: 500. Loss: 2.2976267337799072. Accuracy: 11.350000381469727\n",
      "Iteration: 1000. Loss: 2.278022289276123. Accuracy: 14.40999984741211\n",
      "Iteration: 1500. Loss: 2.230741024017334. Accuracy: 21.030000686645508\n",
      "Iteration: 2000. Loss: 1.1895577907562256. Accuracy: 58.34000015258789\n",
      "Iteration: 2500. Loss: 0.7602993845939636. Accuracy: 73.3499984741211\n",
      "Iteration: 3000. Loss: 0.4741747975349426. Accuracy: 80.63999938964844\n"
     ]
    }
   ],
   "source": [
    "iter = 0\n",
    "for epoch in range(num_epochs):\n",
    "    for i, (images, labels) in enumerate(train_loader):\n",
    "        model.train()\n",
    "        # Load images as tensors with gradient accumulation abilities\n",
    "        images = images.view(-1, seq_dim, input_dim).requires_grad_()\n",
    "\n",
    "        # Clear gradients w.r.t. parameters\n",
    "        optimizer.zero_grad()\n",
    "\n",
    "        # Forward pass to get output/logits\n",
    "        # outputs.size() --> 100, 10\n",
    "        outputs = model(images)\n",
    "\n",
    "        # Calculate Loss: softmax --> cross entropy loss\n",
    "        loss = criterion(outputs, labels)\n",
    "\n",
    "        # Getting gradients w.r.t. parameters\n",
    "        loss.backward()\n",
    "\n",
    "        # Updating parameters\n",
    "        optimizer.step()\n",
    "\n",
    "        iter += 1\n",
    "\n",
    "        if iter % 500 == 0:\n",
    "            model.eval()\n",
    "            # Calculate Accuracy         \n",
    "            correct = 0\n",
    "            total = 0\n",
    "            # Iterate through test dataset\n",
    "            for images, labels in test_loader:\n",
    "                # Resize images\n",
    "                images = images.view(-1, seq_dim, input_dim)\n",
    "\n",
    "                # Forward pass only to get logits/output\n",
    "                outputs = model(images)\n",
    "\n",
    "                # Get predictions from the maximum value\n",
    "                _, predicted = torch.max(outputs.data, 1)\n",
    "\n",
    "                # Total number of labels\n",
    "                total += labels.size(0)\n",
    "\n",
    "                # Total correct predictions\n",
    "                correct += (predicted == labels).sum()\n",
    "\n",
    "            accuracy = 100 * correct / total\n",
    "\n",
    "            # Print Loss\n",
    "            print('Iteration: {}. Loss: {}. Accuracy: {}'.format(iter, loss.item(), accuracy))"
   ]
  },
  {
   "cell_type": "markdown",
   "id": "b5c4b03a",
   "metadata": {},
   "source": [
    "### Sequential Models for Document Classification\n",
    "\n",
    "\n",
    "The following showed an example by AG_NEWS data,\n",
    "\n",
    "https://pytorch.org/tutorials/beginner/text_sentiment_ngrams_tutorial.html"
   ]
  },
  {
   "cell_type": "markdown",
   "id": "7e84f75f",
   "metadata": {},
   "source": [
    "**Load Data**"
   ]
  },
  {
   "cell_type": "code",
   "execution_count": 1,
   "id": "2dd15cf0",
   "metadata": {},
   "outputs": [],
   "source": [
    "import torch\n",
    "from torchtext.datasets import AG_NEWS\n",
    "train_iter = iter(AG_NEWS(split='train'))"
   ]
  },
  {
   "cell_type": "code",
   "execution_count": 3,
   "id": "e900778f",
   "metadata": {},
   "outputs": [],
   "source": [
    "from torchtext.data.utils import get_tokenizer\n",
    "from torchtext.vocab import build_vocab_from_iterator\n",
    "\n",
    "tokenizer = get_tokenizer('basic_english')\n",
    "train_iter = AG_NEWS(split='train')\n",
    "\n",
    "def yield_tokens(data_iter):\n",
    "    for _, text in data_iter:\n",
    "        yield tokenizer(text)\n",
    "\n",
    "vocab = build_vocab_from_iterator(yield_tokens(train_iter), specials=[\"<unk>\"])\n",
    "vocab.set_default_index(vocab[\"<unk>\"])\n",
    "\n",
    "text_pipeline = lambda x: vocab(tokenizer(x))\n",
    "label_pipeline = lambda x: int(x) - 1\n",
    "\n",
    "from torch.utils.data import DataLoader\n",
    "device = torch.device(\"cuda\" if torch.cuda.is_available() else \"cpu\")\n",
    "\n",
    "def collate_batch(batch):\n",
    "    label_list, text_list, offsets = [], [], [0]\n",
    "    for (_label, _text) in batch:\n",
    "         label_list.append(label_pipeline(_label))\n",
    "         processed_text = torch.tensor(text_pipeline(_text), dtype=torch.int64)\n",
    "         text_list.append(processed_text)\n",
    "         offsets.append(processed_text.size(0))\n",
    "    label_list = torch.tensor(label_list, dtype=torch.int64)\n",
    "    offsets = torch.tensor(offsets[:-1]).cumsum(dim=0)\n",
    "    text_list = torch.cat(text_list)\n",
    "    return label_list.to(device), text_list.to(device), offsets.to(device)\n",
    "\n",
    "train_iter = AG_NEWS(split='train')\n",
    "dataloader = DataLoader(train_iter, batch_size=8, shuffle=False, collate_fn=collate_batch)"
   ]
  },
  {
   "cell_type": "markdown",
   "id": "d5996b3d",
   "metadata": {},
   "source": [
    "**Build Network**"
   ]
  },
  {
   "cell_type": "code",
   "execution_count": 4,
   "id": "94d8f639",
   "metadata": {},
   "outputs": [],
   "source": [
    "from torch import nn\n",
    "\n",
    "class TextClassificationModel(nn.Module):\n",
    "\n",
    "    def __init__(self, vocab_size, embed_dim, num_class):\n",
    "        super(TextClassificationModel, self).__init__()\n",
    "        self.embedding = nn.EmbeddingBag(vocab_size, embed_dim, sparse=True)\n",
    "        self.fc = nn.Linear(embed_dim, num_class)\n",
    "        self.init_weights()\n",
    "\n",
    "    def init_weights(self):\n",
    "        initrange = 0.5\n",
    "        self.embedding.weight.data.uniform_(-initrange, initrange)\n",
    "        self.fc.weight.data.uniform_(-initrange, initrange)\n",
    "        self.fc.bias.data.zero_()\n",
    "\n",
    "    def forward(self, text, offsets):\n",
    "        embedded = self.embedding(text, offsets)\n",
    "        return self.fc(embedded)"
   ]
  },
  {
   "cell_type": "markdown",
   "id": "c791bab0",
   "metadata": {},
   "source": [
    "**Set Parameters**"
   ]
  },
  {
   "cell_type": "code",
   "execution_count": 5,
   "id": "59f563ca",
   "metadata": {},
   "outputs": [],
   "source": [
    "train_iter = AG_NEWS(split='train')\n",
    "num_class = len(set([label for (label, text) in train_iter]))\n",
    "vocab_size = len(vocab)\n",
    "emsize = 64\n",
    "model = TextClassificationModel(vocab_size, emsize, num_class).to(device)"
   ]
  },
  {
   "cell_type": "markdown",
   "id": "7ee067b1",
   "metadata": {},
   "source": [
    "**Training**"
   ]
  },
  {
   "cell_type": "code",
   "execution_count": 6,
   "id": "38bcf656",
   "metadata": {},
   "outputs": [],
   "source": [
    "import time\n",
    "\n",
    "def train(dataloader):\n",
    "    model.train()\n",
    "    total_acc, total_count = 0, 0\n",
    "    log_interval = 500\n",
    "    start_time = time.time()\n",
    "\n",
    "    for idx, (label, text, offsets) in enumerate(dataloader):\n",
    "        optimizer.zero_grad()\n",
    "        predicted_label = model(text, offsets)\n",
    "        loss = criterion(predicted_label, label)\n",
    "        loss.backward()\n",
    "        torch.nn.utils.clip_grad_norm_(model.parameters(), 0.1)\n",
    "        optimizer.step()\n",
    "        total_acc += (predicted_label.argmax(1) == label).sum().item()\n",
    "        total_count += label.size(0)\n",
    "        if idx % log_interval == 0 and idx > 0:\n",
    "            elapsed = time.time() - start_time\n",
    "            print('| epoch {:3d} | {:5d}/{:5d} batches '\n",
    "                  '| accuracy {:8.3f}'.format(epoch, idx, len(dataloader),\n",
    "                                              total_acc/total_count))\n",
    "            total_acc, total_count = 0, 0\n",
    "            start_time = time.time()\n",
    "\n",
    "def evaluate(dataloader):\n",
    "    model.eval()\n",
    "    total_acc, total_count = 0, 0\n",
    "\n",
    "    with torch.no_grad():\n",
    "        for idx, (label, text, offsets) in enumerate(dataloader):\n",
    "            predicted_label = model(text, offsets)\n",
    "            loss = criterion(predicted_label, label)\n",
    "            total_acc += (predicted_label.argmax(1) == label).sum().item()\n",
    "            total_count += label.size(0)\n",
    "    return total_acc/total_count"
   ]
  },
  {
   "cell_type": "code",
   "execution_count": 7,
   "id": "6b70e07d",
   "metadata": {},
   "outputs": [
    {
     "name": "stdout",
     "output_type": "stream",
     "text": [
      "| epoch   1 |   500/ 1782 batches | accuracy    0.720\n",
      "| epoch   1 |  1000/ 1782 batches | accuracy    0.868\n",
      "| epoch   1 |  1500/ 1782 batches | accuracy    0.883\n",
      "-----------------------------------------------------------\n",
      "| end of epoch   1 | time:  6.96s | valid accuracy    0.886 \n",
      "-----------------------------------------------------------\n",
      "| epoch   2 |   500/ 1782 batches | accuracy    0.904\n",
      "| epoch   2 |  1000/ 1782 batches | accuracy    0.906\n",
      "| epoch   2 |  1500/ 1782 batches | accuracy    0.908\n",
      "-----------------------------------------------------------\n",
      "| end of epoch   2 | time:  6.89s | valid accuracy    0.850 \n",
      "-----------------------------------------------------------\n",
      "| epoch   3 |   500/ 1782 batches | accuracy    0.924\n",
      "| epoch   3 |  1000/ 1782 batches | accuracy    0.929\n",
      "| epoch   3 |  1500/ 1782 batches | accuracy    0.930\n",
      "-----------------------------------------------------------\n",
      "| end of epoch   3 | time:  6.80s | valid accuracy    0.908 \n",
      "-----------------------------------------------------------\n",
      "| epoch   4 |   500/ 1782 batches | accuracy    0.929\n",
      "| epoch   4 |  1000/ 1782 batches | accuracy    0.930\n",
      "| epoch   4 |  1500/ 1782 batches | accuracy    0.930\n",
      "-----------------------------------------------------------\n",
      "| end of epoch   4 | time:  6.82s | valid accuracy    0.910 \n",
      "-----------------------------------------------------------\n",
      "| epoch   5 |   500/ 1782 batches | accuracy    0.932\n",
      "| epoch   5 |  1000/ 1782 batches | accuracy    0.931\n",
      "| epoch   5 |  1500/ 1782 batches | accuracy    0.930\n",
      "-----------------------------------------------------------\n",
      "| end of epoch   5 | time:  6.88s | valid accuracy    0.911 \n",
      "-----------------------------------------------------------\n",
      "| epoch   6 |   500/ 1782 batches | accuracy    0.933\n",
      "| epoch   6 |  1000/ 1782 batches | accuracy    0.933\n",
      "| epoch   6 |  1500/ 1782 batches | accuracy    0.933\n",
      "-----------------------------------------------------------\n",
      "| end of epoch   6 | time:  7.50s | valid accuracy    0.911 \n",
      "-----------------------------------------------------------\n",
      "| epoch   7 |   500/ 1782 batches | accuracy    0.936\n",
      "| epoch   7 |  1000/ 1782 batches | accuracy    0.935\n",
      "| epoch   7 |  1500/ 1782 batches | accuracy    0.935\n",
      "-----------------------------------------------------------\n",
      "| end of epoch   7 | time:  7.45s | valid accuracy    0.910 \n",
      "-----------------------------------------------------------\n",
      "| epoch   8 |   500/ 1782 batches | accuracy    0.936\n",
      "| epoch   8 |  1000/ 1782 batches | accuracy    0.935\n",
      "| epoch   8 |  1500/ 1782 batches | accuracy    0.935\n",
      "-----------------------------------------------------------\n",
      "| end of epoch   8 | time:  7.35s | valid accuracy    0.910 \n",
      "-----------------------------------------------------------\n",
      "| epoch   9 |   500/ 1782 batches | accuracy    0.936\n",
      "| epoch   9 |  1000/ 1782 batches | accuracy    0.935\n",
      "| epoch   9 |  1500/ 1782 batches | accuracy    0.936\n",
      "-----------------------------------------------------------\n",
      "| end of epoch   9 | time:  7.29s | valid accuracy    0.910 \n",
      "-----------------------------------------------------------\n",
      "| epoch  10 |   500/ 1782 batches | accuracy    0.935\n",
      "| epoch  10 |  1000/ 1782 batches | accuracy    0.936\n",
      "| epoch  10 |  1500/ 1782 batches | accuracy    0.934\n",
      "-----------------------------------------------------------\n",
      "| end of epoch  10 | time:  7.40s | valid accuracy    0.910 \n",
      "-----------------------------------------------------------\n"
     ]
    }
   ],
   "source": [
    "from torch.utils.data.dataset import random_split\n",
    "from torchtext.data.functional import to_map_style_dataset\n",
    "# Hyperparameters\n",
    "EPOCHS = 10 # epoch\n",
    "LR = 5  # learning rate\n",
    "BATCH_SIZE = 64 # batch size for training\n",
    "\n",
    "criterion = torch.nn.CrossEntropyLoss()\n",
    "optimizer = torch.optim.SGD(model.parameters(), lr=LR)\n",
    "scheduler = torch.optim.lr_scheduler.StepLR(optimizer, 1.0, gamma=0.1)\n",
    "total_accu = None\n",
    "train_iter, test_iter = AG_NEWS()\n",
    "train_dataset = to_map_style_dataset(train_iter)\n",
    "test_dataset = to_map_style_dataset(test_iter)\n",
    "num_train = int(len(train_dataset) * 0.95)\n",
    "split_train_, split_valid_ = \\\n",
    "    random_split(train_dataset, [num_train, len(train_dataset) - num_train])\n",
    "\n",
    "train_dataloader = DataLoader(split_train_, batch_size=BATCH_SIZE,\n",
    "                              shuffle=True, collate_fn=collate_batch)\n",
    "valid_dataloader = DataLoader(split_valid_, batch_size=BATCH_SIZE,\n",
    "                              shuffle=True, collate_fn=collate_batch)\n",
    "test_dataloader = DataLoader(test_dataset, batch_size=BATCH_SIZE,\n",
    "                             shuffle=True, collate_fn=collate_batch)\n",
    "\n",
    "for epoch in range(1, EPOCHS + 1):\n",
    "    epoch_start_time = time.time()\n",
    "    train(train_dataloader)\n",
    "    accu_val = evaluate(valid_dataloader)\n",
    "    if total_accu is not None and total_accu > accu_val:\n",
    "      scheduler.step()\n",
    "    else:\n",
    "       total_accu = accu_val\n",
    "    print('-' * 59)\n",
    "    print('| end of epoch {:3d} | time: {:5.2f}s | '\n",
    "          'valid accuracy {:8.3f} '.format(epoch,\n",
    "                                           time.time() - epoch_start_time,\n",
    "                                           accu_val))\n",
    "    print('-' * 59)"
   ]
  },
  {
   "cell_type": "markdown",
   "id": "88317c22",
   "metadata": {},
   "source": [
    "**Testing**"
   ]
  },
  {
   "cell_type": "code",
   "execution_count": 8,
   "id": "6f020172",
   "metadata": {},
   "outputs": [
    {
     "name": "stdout",
     "output_type": "stream",
     "text": [
      "Checking the results of test dataset.\n",
      "test accuracy    0.907\n"
     ]
    }
   ],
   "source": [
    "print('Checking the results of test dataset.')\n",
    "accu_test = evaluate(test_dataloader)\n",
    "print('test accuracy {:8.3f}'.format(accu_test))"
   ]
  },
  {
   "cell_type": "markdown",
   "id": "5648fe19",
   "metadata": {},
   "source": [
    "### Time Series Prediction with LSTM Using PyTorch\n",
    "\n",
    "Using Shampoo Sales Dataset and Airplane Passengers Dataset.\n"
   ]
  },
  {
   "cell_type": "markdown",
   "id": "b49d7f25",
   "metadata": {},
   "source": [
    "**Load Data**"
   ]
  },
  {
   "cell_type": "code",
   "execution_count": 1,
   "id": "979dc781",
   "metadata": {
    "scrolled": true
   },
   "outputs": [],
   "source": [
    "import numpy as np\n",
    "import matplotlib.pyplot as plt\n",
    "import pandas as pd\n",
    "import torch\n",
    "import torch.nn as nn\n",
    "from torch.autograd import Variable\n",
    "from sklearn.preprocessing import MinMaxScaler"
   ]
  },
  {
   "cell_type": "markdown",
   "id": "6409eef8",
   "metadata": {},
   "source": [
    "Download Dataset"
   ]
  },
  {
   "cell_type": "code",
   "execution_count": 11,
   "id": "e7f217da",
   "metadata": {},
   "outputs": [],
   "source": [
    "# Download an example image from the pytorch website\n",
    "import urllib\n",
    "url, filename = (\"https://raw.githubusercontent.com/jbrownlee/Datasets/master/shampoo.csv\", \"shampoo.csv\")\n",
    "try: urllib.URLopener().retrieve(url, filename)\n",
    "except: urllib.request.urlretrieve(url, filename)\n",
    "    \n",
    "url, filename = (\"https://raw.githubusercontent.com/jbrownlee/Datasets/master/airline-passengers.csv\", \"airline-passengers.csv\")\n",
    "try: urllib.URLopener().retrieve(url, filename)\n",
    "except: urllib.request.urlretrieve(url, filename)"
   ]
  },
  {
   "cell_type": "code",
   "execution_count": 5,
   "id": "2970f639",
   "metadata": {},
   "outputs": [],
   "source": [
    "def sliding_windows(data, seq_length):\n",
    "    x = []\n",
    "    y = []\n",
    "\n",
    "    for i in range(len(data)-seq_length-1):\n",
    "        _x = data[i:(i+seq_length)]\n",
    "        _y = data[i+seq_length]\n",
    "        x.append(_x)\n",
    "        y.append(_y)\n",
    "\n",
    "    return np.array(x),np.array(y)\n",
    "\n",
    "sc = MinMaxScaler()\n",
    "training_data = sc.fit_transform(training_set)\n",
    "\n",
    "seq_length = 4\n",
    "x, y = sliding_windows(training_data, seq_length)\n",
    "\n",
    "train_size = int(len(y) * 0.67)\n",
    "test_size = len(y) - train_size\n",
    "\n",
    "dataX = Variable(torch.Tensor(np.array(x)))\n",
    "dataY = Variable(torch.Tensor(np.array(y)))\n",
    "\n",
    "trainX = Variable(torch.Tensor(np.array(x[0:train_size])))\n",
    "trainY = Variable(torch.Tensor(np.array(y[0:train_size])))\n",
    "\n",
    "testX = Variable(torch.Tensor(np.array(x[train_size:len(x)])))\n",
    "testY = Variable(torch.Tensor(np.array(y[train_size:len(y)])))"
   ]
  },
  {
   "cell_type": "markdown",
   "id": "95f519c9",
   "metadata": {},
   "source": [
    "Data Plot"
   ]
  },
  {
   "cell_type": "code",
   "execution_count": 6,
   "id": "98167187",
   "metadata": {},
   "outputs": [
    {
     "data": {
      "image/png": "[encoded data removed]",
      "text/plain": [
       "<Figure size 432x288 with 1 Axes>"
      ]
     },
     "metadata": {
      "needs_background": "light"
     },
     "output_type": "display_data"
    }
   ],
   "source": [
    "training_set = pd.read_csv('airline-passengers.csv')\n",
    "#training_set = pd.read_csv('shampoo.csv')\n",
    "\n",
    "training_set = training_set.iloc[:,1:2].values\n",
    "\n",
    "plt.plot(training_set, label = 'Shampoo Sales Data')\n",
    "plt.show()"
   ]
  },
  {
   "cell_type": "markdown",
   "id": "84c9d479",
   "metadata": {},
   "source": [
    "**Build Network**"
   ]
  },
  {
   "cell_type": "code",
   "execution_count": 7,
   "id": "4afd44d2",
   "metadata": {},
   "outputs": [],
   "source": [
    "class LSTM(nn.Module):\n",
    "\n",
    "    def __init__(self, num_classes, input_size, hidden_size, num_layers):\n",
    "        super(LSTM, self).__init__()\n",
    "        \n",
    "        self.num_classes = num_classes\n",
    "        self.num_layers = num_layers\n",
    "        self.input_size = input_size\n",
    "        self.hidden_size = hidden_size\n",
    "        self.seq_length = seq_length\n",
    "        \n",
    "        self.lstm = nn.LSTM(input_size=input_size, hidden_size=hidden_size,\n",
    "                            num_layers=num_layers, batch_first=True)\n",
    "        \n",
    "        self.fc = nn.Linear(hidden_size, num_classes)\n",
    "\n",
    "    def forward(self, x):\n",
    "        h_0 = Variable(torch.zeros(\n",
    "            self.num_layers, x.size(0), self.hidden_size))\n",
    "        \n",
    "        c_0 = Variable(torch.zeros(\n",
    "            self.num_layers, x.size(0), self.hidden_size))\n",
    "        \n",
    "        # Propagate input through LSTM\n",
    "        ula, (h_out, _) = self.lstm(x, (h_0, c_0))\n",
    "        \n",
    "        h_out = h_out.view(-1, self.hidden_size)\n",
    "        \n",
    "        out = self.fc(h_out)\n",
    "        \n",
    "        return out"
   ]
  },
  {
   "cell_type": "markdown",
   "id": "55b520a4",
   "metadata": {},
   "source": [
    "**Training**"
   ]
  },
  {
   "cell_type": "code",
   "execution_count": 8,
   "id": "fd4ea73f",
   "metadata": {},
   "outputs": [
    {
     "name": "stdout",
     "output_type": "stream",
     "text": [
      "Epoch: 0, loss: 0.87787\n",
      "Epoch: 100, loss: 0.01541\n",
      "Epoch: 200, loss: 0.01242\n",
      "Epoch: 300, loss: 0.00798\n",
      "Epoch: 400, loss: 0.00315\n",
      "Epoch: 500, loss: 0.00299\n",
      "Epoch: 600, loss: 0.00287\n",
      "Epoch: 700, loss: 0.00275\n",
      "Epoch: 800, loss: 0.00264\n",
      "Epoch: 900, loss: 0.00254\n",
      "Epoch: 1000, loss: 0.00244\n",
      "Epoch: 1100, loss: 0.00234\n",
      "Epoch: 1200, loss: 0.00225\n",
      "Epoch: 1300, loss: 0.00216\n",
      "Epoch: 1400, loss: 0.00207\n",
      "Epoch: 1500, loss: 0.00197\n",
      "Epoch: 1600, loss: 0.00188\n",
      "Epoch: 1700, loss: 0.00181\n",
      "Epoch: 1800, loss: 0.00176\n",
      "Epoch: 1900, loss: 0.00174\n"
     ]
    }
   ],
   "source": [
    "num_epochs = 2000\n",
    "learning_rate = 0.01\n",
    "\n",
    "input_size = 1\n",
    "hidden_size = 2\n",
    "num_layers = 1\n",
    "\n",
    "num_classes = 1\n",
    "\n",
    "lstm = LSTM(num_classes, input_size, hidden_size, num_layers)\n",
    "\n",
    "criterion = torch.nn.MSELoss()    # mean-squared error for regression\n",
    "optimizer = torch.optim.Adam(lstm.parameters(), lr=learning_rate)\n",
    "#optimizer = torch.optim.SGD(lstm.parameters(), lr=learning_rate)\n",
    "\n",
    "# Train the model\n",
    "for epoch in range(num_epochs):\n",
    "    outputs = lstm(trainX)\n",
    "    optimizer.zero_grad()\n",
    "    \n",
    "    # obtain the loss function\n",
    "    loss = criterion(outputs, trainY)\n",
    "    \n",
    "    loss.backward()\n",
    "    \n",
    "    optimizer.step()\n",
    "    if epoch % 100 == 0:\n",
    "      print(\"Epoch: %d, loss: %1.5f\" % (epoch, loss.item()))"
   ]
  },
  {
   "cell_type": "markdown",
   "id": "3796b630",
   "metadata": {},
   "source": [
    "**Testing**\n",
    "\n",
    "Shampoo Sales Dataset"
   ]
  },
  {
   "cell_type": "code",
   "execution_count": 9,
   "id": "4c556f75",
   "metadata": {},
   "outputs": [
    {
     "data": {
      "image/png": "[encoded data removed]",
      "text/plain": [
       "<Figure size 432x288 with 1 Axes>"
      ]
     },
     "metadata": {
      "needs_background": "light"
     },
     "output_type": "display_data"
    }
   ],
   "source": [
    "lstm.eval()\n",
    "train_predict = lstm(dataX)\n",
    "\n",
    "data_predict = train_predict.data.numpy()\n",
    "dataY_plot = dataY.data.numpy()\n",
    "\n",
    "data_predict = sc.inverse_transform(data_predict)\n",
    "dataY_plot = sc.inverse_transform(dataY_plot)\n",
    "\n",
    "plt.axvline(x=train_size, c='r', linestyle='--')\n",
    "\n",
    "plt.plot(dataY_plot)\n",
    "plt.plot(data_predict)\n",
    "plt.suptitle('Time-Series Prediction')\n",
    "plt.show()"
   ]
  },
  {
   "cell_type": "markdown",
   "id": "fb45e1ea",
   "metadata": {},
   "source": [
    "Airplane Passengers Dataset"
   ]
  },
  {
   "cell_type": "code",
   "execution_count": 10,
   "id": "9231745f",
   "metadata": {},
   "outputs": [
    {
     "data": {
      "image/png": "[encoded data removed]",
      "text/plain": [
       "<Figure size 432x288 with 1 Axes>"
      ]
     },
     "metadata": {
      "needs_background": "light"
     },
     "output_type": "display_data"
    }
   ],
   "source": [
    "lstm.eval()\n",
    "train_predict = lstm(dataX)\n",
    "\n",
    "data_predict = train_predict.data.numpy()\n",
    "dataY_plot = dataY.data.numpy()\n",
    "\n",
    "data_predict = sc.inverse_transform(data_predict)\n",
    "dataY_plot = sc.inverse_transform(dataY_plot)\n",
    "\n",
    "plt.axvline(x=train_size, c='r', linestyle='--')\n",
    "\n",
    "plt.plot(dataY_plot)\n",
    "plt.plot(data_predict)\n",
    "plt.suptitle('Time-Series Prediction')\n",
    "plt.show()"
   ]
  }
 ],
 "metadata": {
  "kernelspec": {
   "display_name": "arlpsu",
   "language": "python",
   "name": "arlpsu"
  },
  "language_info": {
   "codemirror_mode": {
    "name": "ipython",
    "version": 3
   },
   "file_extension": ".py",
   "mimetype": "text/x-python",
   "name": "python",
   "nbconvert_exporter": "python",
   "pygments_lexer": "ipython3",
   "version": "3.9.13"
  }
 },
 "nbformat": 4,
 "nbformat_minor": 5
}
